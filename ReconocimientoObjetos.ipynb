{
  "cells": [
    {
      "cell_type": "markdown",
      "metadata": {
        "id": "view-in-github",
        "colab_type": "text"
      },
      "source": [
        "<a href=\"https://colab.research.google.com/github/RobinsonGo09/Calculadora/blob/master/ReconocimientoObjetos.ipynb\" target=\"_parent\"><img src=\"https://colab.research.google.com/assets/colab-badge.svg\" alt=\"Open In Colab\"/></a>"
      ]
    },
    {
      "cell_type": "markdown",
      "metadata": {
        "id": "2cnUbZHd66k9"
      },
      "source": [
        "# Importamos nuestro drive y le damos permiso a colab de ingresar."
      ]
    },
    {
      "cell_type": "code",
      "execution_count": null,
      "metadata": {
        "colab": {
          "base_uri": "https://localhost:8080/"
        },
        "id": "ddf8kSxQMPKh",
        "outputId": "9701f2f2-6edf-4ed7-bcea-1cb7b679076c"
      },
      "outputs": [
        {
          "name": "stdout",
          "output_type": "stream",
          "text": [
            "Drive already mounted at /content/drive; to attempt to forcibly remount, call drive.mount(\"/content/drive\", force_remount=True).\n"
          ]
        }
      ],
      "source": [
        "from google.colab import drive\n",
        "drive.mount('/content/drive')"
      ]
    },
    {
      "cell_type": "markdown",
      "metadata": {
        "id": "MCwL0z0oBX3R"
      },
      "source": [
        "# Desde Colab importamos el parche cv2_imshow, para poder mostrar nuestra imagen."
      ]
    },
    {
      "cell_type": "code",
      "execution_count": null,
      "metadata": {
        "id": "E2TZ1sWXU0bK"
      },
      "outputs": [],
      "source": [
        "from google.colab.patches import cv2_imshow"
      ]
    },
    {
      "cell_type": "markdown",
      "metadata": {
        "id": "Ogv4oF1r80K_"
      },
      "source": [
        "# Importamos cv2 con la finalidad de poder utilizar algoritmos de visión artificial y numpy con la finalidad de realizar cálculos numéricos de forma eficiente en nuestro caso analizara matrices.\n",
        "\n"
      ]
    },
    {
      "cell_type": "code",
      "execution_count": null,
      "metadata": {
        "id": "ws3fZi2rMQOi"
      },
      "outputs": [],
      "source": [
        "import cv2\n",
        "import numpy as np"
      ]
    },
    {
      "cell_type": "markdown",
      "metadata": {
        "id": "aYOYUoh5_AuJ"
      },
      "source": [
        "# Cargamos el modelo de detección de objetos COCO 80 clases, y la máscara rcnn ( Red neuronal convolucional de detención de objetos ), para que los objetos que sean detectados agregarle una máscara de segmentación."
      ]
    },
    {
      "cell_type": "code",
      "execution_count": null,
      "metadata": {
        "id": "K-WrltV5NBmS"
      },
      "outputs": [],
      "source": [
        "rcnn = cv2.dnn.readNetFromTensorflow('/content/drive/MyDrive/frozen_inference_graph_coco.pb',\n",
        "                                     '/content/drive/MyDrive/mask_rcnn_inception_v2_coco_2018_01_28.pbtxt')"
      ]
    },
    {
      "cell_type": "markdown",
      "metadata": {
        "id": "s-5_7Lpj_gZw"
      },
      "source": [
        "# Leemos la imagen"
      ]
    },
    {
      "cell_type": "code",
      "execution_count": null,
      "metadata": {
        "id": "OJm9DzimSMPh"
      },
      "outputs": [],
      "source": [
        "img = cv2.imread('/content/drive/MyDrive/img1.jpeg')\n",
        "alto, ancho, _ =  img.shape\n"
      ]
    },
    {
      "cell_type": "markdown",
      "metadata": {
        "id": "vMfp1gfu_odS"
      },
      "source": [
        "# Generamos los colores"
      ]
    },
    {
      "cell_type": "code",
      "execution_count": null,
      "metadata": {
        "id": "UGnVBzirSkSz"
      },
      "outputs": [],
      "source": [
        "colores = np.random.randint(0, 255, (80,3))"
      ]
    },
    {
      "cell_type": "markdown",
      "metadata": {
        "id": "02BB3iTw_rJa"
      },
      "source": [
        "# Alistamos nuestra imagen"
      ]
    },
    {
      "cell_type": "code",
      "execution_count": null,
      "metadata": {
        "id": "U0R39Ii2Sok0"
      },
      "outputs": [],
      "source": [
        "blob = cv2.dnn.blobFromImage(img, swapRB = True) "
      ]
    },
    {
      "cell_type": "markdown",
      "metadata": {
        "id": "fv1yOpvU_yTG"
      },
      "source": [
        "# Procesamos la imagen"
      ]
    },
    {
      "cell_type": "code",
      "execution_count": null,
      "metadata": {
        "id": "FYlNy4qXSond"
      },
      "outputs": [],
      "source": [
        "rcnn.setInput(blob)"
      ]
    },
    {
      "cell_type": "markdown",
      "metadata": {
        "id": "ckuuE75R_5DZ"
      },
      "source": [
        "# Extraemos los Rect y Mascaras"
      ]
    },
    {
      "cell_type": "code",
      "execution_count": null,
      "metadata": {
        "id": "T-K6MoP5Swr-"
      },
      "outputs": [],
      "source": [
        "info, masks = rcnn.forward([\"detection_out_final\", \"detection_masks\"])"
      ]
    },
    {
      "cell_type": "markdown",
      "metadata": {
        "id": "vJoMSAERAPkC"
      },
      "source": [
        "# Extraemos la cantidad de objetos detectados"
      ]
    },
    {
      "cell_type": "code",
      "execution_count": null,
      "metadata": {
        "id": "1f4rnqkZSoqZ"
      },
      "outputs": [],
      "source": [
        "contObject = info.shape[2]"
      ]
    },
    {
      "cell_type": "markdown",
      "metadata": {
        "id": "FJecxHFXBQYK"
      },
      "source": [
        "# Iteramos sobre los objetos detectados"
      ]
    },
    {
      "cell_type": "code",
      "execution_count": null,
      "metadata": {
        "colab": {
          "background_save": true,
          "base_uri": "https://localhost:8080/",
          "height": 620
        },
        "id": "iyY4RqPHS3Gq",
        "outputId": "13350cc1-2883-4caa-b96c-5ce819ef656a"
      },
      "outputs": [],
      "source": [
        "for i in range(contObject):\n",
        "      # Extraemos los rectangulos de los objetos\n",
        "    inf = info[0,0,i]\n",
        "    #print(inf)\n",
        "\n",
        "    # Extraemos Clase\n",
        "    clase = int(inf[1])\n",
        "    #print(clase)\n",
        "\n",
        "    # Extraemos puntaje\n",
        "    puntaje = inf[2]\n",
        "\n",
        "    # Filtro\n",
        "    if puntaje < 0.7:\n",
        "        continue\n",
        "\n",
        "    # Coordenadas del Rectangulos para deteccion de objetos\n",
        "    x = int(inf[3] * ancho)\n",
        "    y = int(inf[4] * alto)\n",
        "    x2 = int(inf[5] * ancho)\n",
        "    y2 = int(inf[6] * alto)\n",
        "\n",
        "    # Extraemos el tamaño de los objetos\n",
        "    tamobj = img[y:y2, x:x2]\n",
        "    tamalto, tamancho, _ = tamobj.shape\n",
        "    #print(tamalto, tamancho)\n",
        "\n",
        "    # Extraemos Mascara\n",
        "    mask = masks[i, clase]\n",
        "    mask = cv2.resize(mask, (tamancho, tamalto))\n",
        "\n",
        "    # Establecemos un umbral\n",
        "    _, mask = cv2.threshold(mask, 0.5, 255, cv2.THRESH_BINARY)\n",
        "    mask = np.array(mask, np.uint8)\n",
        "    #print(mask.shape)\n",
        "\n",
        "    # Extraemos coordenadas de la mascara\n",
        "    contornos, _ = cv2.findContours(mask, cv2.RETR_EXTERNAL, cv2.CHAIN_APPROX_SIMPLE)\n",
        "\n",
        "    # Elegimos los colores\n",
        "    color = colores[clase]\n",
        "    r = int(color[0])\n",
        "    g = int(color[1])\n",
        "    b = int(color[2])\n",
        "\n",
        "    # Iteramos los contornos\n",
        "    for cont in contornos:\n",
        "        # Dibujamos mascara\n",
        "        cv2.fillPoly(tamobj, [cont], (r,g,b))\n",
        "        # Dibujamos\n",
        "        cv2.rectangle(img, (x, y), (x2, y2), (r, g, b), 3)\n",
        "\n",
        "        #print(cont)\n",
        "    # Mostramos\n",
        "    cv2_imshow(img)\n",
        "    \n",
        "    # # Mascara\n",
        "    # cv2.imshow('MASCARA', mask)\n",
        "    cv2.waitKey(0)\n"
      ]
    }
  ],
  "metadata": {
    "colab": {
      "provenance": [],
      "mount_file_id": "1MQU7IFq13yOZSuUF3LiU6k0WOhP_ChWy",
      "authorship_tag": "ABX9TyONbVaRnvmDd1UPDCZxxn+y",
      "include_colab_link": true
    },
    "kernelspec": {
      "display_name": "Python 3",
      "name": "python3"
    },
    "language_info": {
      "name": "python"
    }
  },
  "nbformat": 4,
  "nbformat_minor": 0
}